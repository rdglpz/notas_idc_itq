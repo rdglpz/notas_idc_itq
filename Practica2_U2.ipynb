{
 "cells": [
  {
   "cell_type": "markdown",
   "metadata": {},
   "source": [
    "# Práctica 2  \n",
    "Introducción Paho MQTT en Python¶"
   ]
  },
  {
   "cell_type": "markdown",
   "metadata": {},
   "source": [
    "## Probando el buffer (cola de mensajes) con Paho.\n",
    "\n",
    "En estos ejercicios probaremos con el código que los mensajes se quedan en la cola de mensajes (buffer) hasta que el proceso loop los lee y los procesa. Es necesario entender como definir y asignar la función callback\n",
    "\n",
    "### Actividad 1: Dominar Crear, Publicar, suscribir, ejecutar loop del Cliente.\n",
    "\n",
    "0. Import paho.mqtt.client as mqtt\n",
    "1. Crear un cliente\n",
    "2. Asociar ```on_message``` callback al cliente que muestre los mensajes recibidos.\n",
    "3. Conectar el cliente al broker\n",
    "4. Publicar un mensaje \"X\" en un topico \"A\"\n",
    "5. Suscribir al mismo tópico \"A\"\n",
    "\n",
    "  * Porque no puedo ver los mensajes publicados en el paso 4?\n",
    "\n",
    "------------------------------\n",
    "6. Ejecutar el loop\n",
    "\n",
    "  * Porque sigo sin verlos?\n",
    "  * Que modificaciones debo hacer en el programa para poder probar que los mensajes quedan en el buffer.\n",
    "\n",
    "\n"
   ]
  },
  {
   "cell_type": "code",
   "execution_count": 17,
   "metadata": {},
   "outputs": [],
   "source": [
    "#help(mqtt)"
   ]
  },
  {
   "cell_type": "code",
   "execution_count": 18,
   "metadata": {},
   "outputs": [
    {
     "name": "stdout",
     "output_type": "stream",
     "text": [
      "Para recibir mensaje, primero hay que suscribirse\n"
     ]
    },
    {
     "data": {
      "text/plain": [
       "(0, 2)"
      ]
     },
     "execution_count": 18,
     "metadata": {},
     "output_type": "execute_result"
    }
   ],
   "source": [
    "#0. Import paho.mqtt.client as mqtt\n",
    "import paho.mqtt.client as mqtt\n",
    "\n",
    "host = \"192.168.1.93\"\n",
    "ncliente = \"rod3\"\n",
    "topico = \"msj\"\n",
    "\n",
    "def on_message(client, userdata, message):\n",
    "    print(\"Mensaje Recibido \" ,str(message.payload.decode(\"utf-8\")))\n",
    "    print(\"Mensaje Topico=\",message.topic)\n",
    "    print(\"Mensaje qos=\",message.qos)\n",
    "    print(\"Mensaje retain flag = \",message.retain)\n",
    "\n",
    "#1. Crear un cliente\n",
    "cliente = mqtt.Client(ncliente)\n",
    "\n",
    "#2. Asociar implementación ```on_message``` callback al cliente.\n",
    "cliente.on_message = on_message\n",
    "\n",
    "#3. Conectar el cliente al broker\n",
    "cliente.connect(host)\n",
    "\n",
    "#publicamos con QoS = 0, bandera retain = False \n",
    "#para asegurarnos que broker no guarde el mensaje.\n",
    "\n",
    "#Una manera de ver ese mensaje es que el proceso loop ejecute\n",
    "#las instrucciones en el mismo orden y que este orden sea el\n",
    "#adecuado.\n",
    "\n",
    "#Así aseguramos que el mensaje que imprimimos es aquel \n",
    "#que está de manera provisional en el buffer.\n",
    "\n",
    "cliente.publish(topico,payload = \"prueba\",retain = False)\n",
    "\n",
    "print(\"Para recibir mensaje, primero hay que suscribirse\")\n",
    "cliente.subscribe(topico)"
   ]
  },
  {
   "cell_type": "code",
   "execution_count": 19,
   "metadata": {},
   "outputs": [
    {
     "name": "stdout",
     "output_type": "stream",
     "text": [
      "0x20\n",
      "0x90\n"
     ]
    }
   ],
   "source": [
    "#iniciar loop\n",
    "cliente.loop_start()"
   ]
  },
  {
   "cell_type": "code",
   "execution_count": 20,
   "metadata": {},
   "outputs": [
    {
     "data": {
      "text/plain": [
       "0"
      ]
     },
     "execution_count": 20,
     "metadata": {},
     "output_type": "execute_result"
    }
   ],
   "source": [
    "cliente.loop_stop()\n",
    "cliente.disconnect()"
   ]
  },
  {
   "cell_type": "markdown",
   "metadata": {},
   "source": [
    "#### Actividad 2. Banderas de MQTT, y otras funciones.\n",
    "Probar el funcionamiento de la bandera Clean session. Escribir un programa que haga lo siguiente\n",
    "\n",
    "0. Import paho.mqtt.client as mqtt\n",
    "1. Crear un cliente con bandera ```clean_Session = True```\n",
    "2. Asociar un ```on_message``` callback al cliente que muestre los mensajes recibidos.\n",
    "3. Conectar el cliente al broker\n",
    "4. Suscribir a un tópico \"A\"\n",
    "5. Publicar un mensaje \"X\" en un topico \"A\"\n",
    "6. Ejecutar loop\n",
    "7. Detener Loop\n",
    "8. Desconectar\n",
    "\n",
    "Como poder enviar y recibir el mensaje sin que el cliente anterior se suscribiese de manera explícita. \n",
    "\n",
    "#### Actividad 3. Manejando unsuscribe()\n",
    "\n",
    "1. apoyarse del programa escrito en el Ejercicio 2.\n",
    "2. Ejecutar en un bloque de código los pasos 0-6\n",
    "3. En otro bloque de código De-suscribir al tópico \"A\"\n",
    "4. Publicar en el tópico \"A\"\n",
    "\n",
    "# Práctica 3 \n",
    "Miniproyecto Callbacks\n",
    "\n",
    "#### Ejercicio 1. Implementando Callbacks\n",
    "\n",
    "1. Crear una implementación libre de la función callback ```(on_publish(client, userdata, mid))```, con el objetivo de probar su funcionamiento. Describir.\n",
    "\n",
    "2. Proponer una implementación de callback ```on_message``` que pueda detener el mismo proceso con un mensaje específico. \n",
    "\n",
    "2. Detener el loop automáticamente si la conexión falla usando el callback def on_disconnect(client, userdata,rc=0)\n",
    "\n",
    "3. Simular un sensor con un generador de señales virtual. Esta señal es transmitida por el protocolo MQTT utilizando Paho.\n",
    "  * El cliente que recibe debe ser capaz de almacenar el dato en una base de datos (.csv, .txt, mysql, mongodb, panda database)\n",
    "  * Graficar los datos con algún paquete para graficar y Actualizarla de manera continua (e.g., cada seg)\n",
    "\n"
   ]
  },
  {
   "cell_type": "code",
   "execution_count": null,
   "metadata": {},
   "outputs": [],
   "source": [
    "Notas: \n",
    "    \n",
    "    client.connected_flag = TRUE cuando rc = 0 client.bad_connection_flag = 1 cuando rc>0\n",
    "\n",
    "Ejecutar y detener por medio de mensajes un cliente de MQTT*"
   ]
  }
 ],
 "metadata": {
  "kernelspec": {
   "display_name": "Python 2",
   "language": "python",
   "name": "python2"
  },
  "language_info": {
   "codemirror_mode": {
    "name": "ipython",
    "version": 2
   },
   "file_extension": ".py",
   "mimetype": "text/x-python",
   "name": "python",
   "nbconvert_exporter": "python",
   "pygments_lexer": "ipython2",
   "version": "2.7.16"
  }
 },
 "nbformat": 4,
 "nbformat_minor": 2
}
