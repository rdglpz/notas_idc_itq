{
 "cells": [
  {
   "cell_type": "markdown",
   "metadata": {},
   "source": [
    "# Práctica 3 \n",
    "\n",
    "\n",
    "#### Ejercicio 1. Callbacks\n",
    "\n",
    "* Crear una implementación libre de la función callback ```(on_publish(client, userdata, mid))```, y probar su funcionamiento. (1/3)\n",
    "    * Sugerencia: importar modulo ```inspect``` y utilizar ```inspect.getmembers(client)```, para consultar los atributos de la clase. \n",
    "    * Seleccionar algunos atributos y mostrarlos en la funcion ```on_publish```.\n",
    "    \n",
    "* Crear dos clientes, un cliente maestro y uno esclavo. (1/3)\n",
    "\n",
    "    * El cliente esclavo solo recibe ordenes del cliente maestro a traves de un mensaje enviado en un topico especifico.\n",
    "    * El cliente maestro debe poder detener y cerrar la conexion del cliente esclavo con una instruccion especifica.\n",
    "\n",
    "\n",
    "* Detener el loop automáticamente si la conexión falla usando el callback def ```on_disconnect(client, userdata,rc=0)``` (1/3)\n",
    "\n",
    "\n",
    "# Miniproyecto Callbacks\n",
    "\n",
    "* Simular un sensor con un generador de señales virtual. Esta señal es transmitida por el protocolo MQTT utilizando Paho.\n",
    "  * El cliente que recibe debe ser capaz de almacenar el dato en una base de datos (.csv, .txt, mysql, mongodb, panda database)\n",
    "  * Graficar los datos con algún paquete y Actualizarla de manera continua (e.g., cada segundo)\n",
    "  \n",
    "\n",
    "#### **Comandos Mosquitto**\n",
    "\n",
    "```\n",
    "/usr/sbin/mosquitto -v\n",
    "/usr/sbin/mosquitto -c /etc/mosquitto/mosquitto.conf\n",
    "```"
   ]
  },
  {
   "cell_type": "code",
   "execution_count": 55,
   "metadata": {},
   "outputs": [],
   "source": [
    "#0. Import paho.mqtt.client as mqtt\n",
    "import paho.mqtt.client as mqtt\n",
    "import inspect"
   ]
  },
  {
   "cell_type": "code",
   "execution_count": 56,
   "metadata": {},
   "outputs": [],
   "source": [
    "host = \"192.168.1.88\"\n",
    "nclienteA = \"c1\"\n",
    "nclienteB = \"c2\"\n",
    "topico = \"msj\"\n",
    "\n",
    "def on_message_maestro(client, userdata, message):\n",
    "    '''Implementar'''\n",
    "    \n",
    "    print(\"Callback on_message\")\n",
    "\n",
    "def on_message_esclavo(client, userdata, message):\n",
    "        '''Implementar'''\n",
    "    \n",
    "    print(\"Callback on_message\")\n",
    "    \n",
    "\n",
    "def on_publish(client, userdata, mid):\n",
    "    '''Implementar'''\n",
    "    \n",
    "    print(\"Callback on_publish\")\n",
    "    \n",
    "def on_disconect(client, userdata,rc):\n",
    "    '''Implementar'''\n",
    "    \n",
    "    print(\"Callback OnDisconect\")\n",
    "    "
   ]
  },
  {
   "cell_type": "code",
   "execution_count": 57,
   "metadata": {},
   "outputs": [],
   "source": [
    "#1. Crear un cliente maestro (A) y esclavo(B) \n",
    "\n",
    "\n",
    "#2. Asociar callbacks\n"
   ]
  },
  {
   "cell_type": "code",
   "execution_count": 1,
   "metadata": {},
   "outputs": [],
   "source": [
    "#3. Conectar el cliente al broker\n",
    "\n",
    "\n",
    "#4 iniciar loop\n",
    "\n",
    "# Intercambio de mensajes\n",
    "\n",
    "#Detener Loop\n",
    "\n",
    "# desconectar clientes."
   ]
  },
  {
   "cell_type": "code",
   "execution_count": 2,
   "metadata": {},
   "outputs": [],
   "source": [
    "# help(mqtt)"
   ]
  },
  {
   "cell_type": "code",
   "execution_count": 31,
   "metadata": {},
   "outputs": [],
   "source": [
    "#inspect.getmembers(clienteA)"
   ]
  }
 ],
 "metadata": {
  "kernelspec": {
   "display_name": "Python 3",
   "language": "python",
   "name": "python3"
  },
  "language_info": {
   "codemirror_mode": {
    "name": "ipython",
    "version": 3
   },
   "file_extension": ".py",
   "mimetype": "text/x-python",
   "name": "python",
   "nbconvert_exporter": "python",
   "pygments_lexer": "ipython3",
   "version": "3.7.6"
  }
 },
 "nbformat": 4,
 "nbformat_minor": 4
}
