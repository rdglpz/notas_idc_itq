{
 "cells": [
  {
   "cell_type": "markdown",
   "metadata": {},
   "source": [
    "# Ejemplo: Leer .csv con Pandas"
   ]
  },
  {
   "cell_type": "code",
   "execution_count": 116,
   "metadata": {},
   "outputs": [],
   "source": [
    "import pandas as pd\n",
    "import matplotlib.pyplot as plt"
   ]
  },
  {
   "cell_type": "markdown",
   "metadata": {},
   "source": [
    "Leer archivo csv"
   ]
  },
  {
   "cell_type": "code",
   "execution_count": 118,
   "metadata": {},
   "outputs": [],
   "source": [
    "df = pd.read_csv(\"ejemploleercsv/Datos_PREPA4_Inten_201801.csv\")"
   ]
  },
  {
   "cell_type": "markdown",
   "metadata": {},
   "source": [
    "Mostrar los últimos elementos de la tabla"
   ]
  },
  {
   "cell_type": "code",
   "execution_count": 121,
   "metadata": {},
   "outputs": [
    {
     "data": {
      "text/html": [
       "<div>\n",
       "<style scoped>\n",
       "    .dataframe tbody tr th:only-of-type {\n",
       "        vertical-align: middle;\n",
       "    }\n",
       "\n",
       "    .dataframe tbody tr th {\n",
       "        vertical-align: top;\n",
       "    }\n",
       "\n",
       "    .dataframe thead th {\n",
       "        text-align: right;\n",
       "    }\n",
       "</style>\n",
       "<table border=\"1\" class=\"dataframe\">\n",
       "  <thead>\n",
       "    <tr style=\"text-align: right;\">\n",
       "      <th></th>\n",
       "      <th>Estación</th>\n",
       "      <th>Fecha/hora</th>\n",
       "      <th>Intensidad [mm/h]</th>\n",
       "    </tr>\n",
       "  </thead>\n",
       "  <tbody>\n",
       "    <tr>\n",
       "      <th>0</th>\n",
       "      <td>PREPA4</td>\n",
       "      <td>2018/01/01 00:02</td>\n",
       "      <td>0.0</td>\n",
       "    </tr>\n",
       "    <tr>\n",
       "      <th>1</th>\n",
       "      <td>PREPA4</td>\n",
       "      <td>2018/01/01 00:03</td>\n",
       "      <td>0.0</td>\n",
       "    </tr>\n",
       "    <tr>\n",
       "      <th>2</th>\n",
       "      <td>PREPA4</td>\n",
       "      <td>2018/01/01 00:04</td>\n",
       "      <td>0.0</td>\n",
       "    </tr>\n",
       "    <tr>\n",
       "      <th>3</th>\n",
       "      <td>PREPA4</td>\n",
       "      <td>2018/01/01 00:05</td>\n",
       "      <td>0.0</td>\n",
       "    </tr>\n",
       "    <tr>\n",
       "      <th>4</th>\n",
       "      <td>PREPA4</td>\n",
       "      <td>2018/01/01 00:06</td>\n",
       "      <td>0.0</td>\n",
       "    </tr>\n",
       "  </tbody>\n",
       "</table>\n",
       "</div>"
      ],
      "text/plain": [
       "  Estación        Fecha/hora  Intensidad [mm/h]\n",
       "0   PREPA4  2018/01/01 00:02                0.0\n",
       "1   PREPA4  2018/01/01 00:03                0.0\n",
       "2   PREPA4  2018/01/01 00:04                0.0\n",
       "3   PREPA4  2018/01/01 00:05                0.0\n",
       "4   PREPA4  2018/01/01 00:06                0.0"
      ]
     },
     "execution_count": 121,
     "metadata": {},
     "output_type": "execute_result"
    }
   ],
   "source": [
    "df.head()"
   ]
  },
  {
   "cell_type": "markdown",
   "metadata": {},
   "source": [
    "Mostrar columnas"
   ]
  },
  {
   "cell_type": "code",
   "execution_count": 105,
   "metadata": {},
   "outputs": [
    {
     "data": {
      "text/plain": [
       "Index(['Estación', 'Fecha/hora', 'Intensidad [mm/h]'], dtype='object')"
      ]
     },
     "execution_count": 105,
     "metadata": {},
     "output_type": "execute_result"
    }
   ],
   "source": [
    "df.columns"
   ]
  },
  {
   "cell_type": "markdown",
   "metadata": {},
   "source": [
    "Definir indice columna"
   ]
  },
  {
   "cell_type": "code",
   "execution_count": 122,
   "metadata": {},
   "outputs": [],
   "source": [
    "df = df.set_index(\"Fecha/hora\")"
   ]
  },
  {
   "cell_type": "code",
   "execution_count": 125,
   "metadata": {},
   "outputs": [
    {
     "data": {
      "text/plain": [
       "Index(['2018/01/01 00:02', '2018/01/01 00:03', '2018/01/01 00:04',\n",
       "       '2018/01/01 00:05', '2018/01/01 00:06', '2018/01/01 00:07',\n",
       "       '2018/01/01 00:08', '2018/01/01 00:09', '2018/01/01 00:10',\n",
       "       '2018/01/01 00:11',\n",
       "       ...\n",
       "       '2018/01/31 23:49', '2018/01/31 23:50', '2018/01/31 23:51',\n",
       "       '2018/01/31 23:52', '2018/01/31 23:53', '2018/01/31 23:54',\n",
       "       '2018/01/31 23:55', '2018/01/31 23:56', '2018/01/31 23:57',\n",
       "       '2018/01/31 23:58'],\n",
       "      dtype='object', name='Fecha/hora', length=43730)"
      ]
     },
     "execution_count": 125,
     "metadata": {},
     "output_type": "execute_result"
    }
   ],
   "source": [
    "df.index"
   ]
  },
  {
   "cell_type": "markdown",
   "metadata": {},
   "source": [
    "Convertir datos de columna a tipo *Date*\n",
    "\n"
   ]
  },
  {
   "cell_type": "code",
   "execution_count": 126,
   "metadata": {},
   "outputs": [],
   "source": [
    "df.index = pd.to_datetime(df.index)"
   ]
  },
  {
   "cell_type": "markdown",
   "metadata": {},
   "source": [
    "Remuestrear por semana (o por hora) y mostrar su promedio (suma) semanal. (D es para día).\n",
    "\n"
   ]
  },
  {
   "cell_type": "code",
   "execution_count": null,
   "metadata": {},
   "outputs": [],
   "source": []
  },
  {
   "cell_type": "code",
   "execution_count": 128,
   "metadata": {},
   "outputs": [
    {
     "data": {
      "text/html": [
       "<div>\n",
       "<style scoped>\n",
       "    .dataframe tbody tr th:only-of-type {\n",
       "        vertical-align: middle;\n",
       "    }\n",
       "\n",
       "    .dataframe tbody tr th {\n",
       "        vertical-align: top;\n",
       "    }\n",
       "\n",
       "    .dataframe thead th {\n",
       "        text-align: right;\n",
       "    }\n",
       "</style>\n",
       "<table border=\"1\" class=\"dataframe\">\n",
       "  <thead>\n",
       "    <tr style=\"text-align: right;\">\n",
       "      <th></th>\n",
       "      <th>Intensidad [mm/h]</th>\n",
       "    </tr>\n",
       "    <tr>\n",
       "      <th>Fecha/hora</th>\n",
       "      <th></th>\n",
       "    </tr>\n",
       "  </thead>\n",
       "  <tbody>\n",
       "    <tr>\n",
       "      <th>2018-01-01 00:00:00</th>\n",
       "      <td>0.0</td>\n",
       "    </tr>\n",
       "    <tr>\n",
       "      <th>2018-01-01 01:00:00</th>\n",
       "      <td>0.0</td>\n",
       "    </tr>\n",
       "    <tr>\n",
       "      <th>2018-01-01 02:00:00</th>\n",
       "      <td>0.0</td>\n",
       "    </tr>\n",
       "    <tr>\n",
       "      <th>2018-01-01 03:00:00</th>\n",
       "      <td>0.0</td>\n",
       "    </tr>\n",
       "    <tr>\n",
       "      <th>2018-01-01 04:00:00</th>\n",
       "      <td>0.0</td>\n",
       "    </tr>\n",
       "    <tr>\n",
       "      <th>2018-01-01 05:00:00</th>\n",
       "      <td>0.0</td>\n",
       "    </tr>\n",
       "    <tr>\n",
       "      <th>2018-01-01 06:00:00</th>\n",
       "      <td>0.0</td>\n",
       "    </tr>\n",
       "    <tr>\n",
       "      <th>2018-01-01 07:00:00</th>\n",
       "      <td>0.0</td>\n",
       "    </tr>\n",
       "    <tr>\n",
       "      <th>2018-01-01 08:00:00</th>\n",
       "      <td>0.0</td>\n",
       "    </tr>\n",
       "    <tr>\n",
       "      <th>2018-01-01 09:00:00</th>\n",
       "      <td>0.0</td>\n",
       "    </tr>\n",
       "    <tr>\n",
       "      <th>2018-01-01 10:00:00</th>\n",
       "      <td>0.0</td>\n",
       "    </tr>\n",
       "    <tr>\n",
       "      <th>2018-01-01 11:00:00</th>\n",
       "      <td>0.0</td>\n",
       "    </tr>\n",
       "    <tr>\n",
       "      <th>2018-01-01 12:00:00</th>\n",
       "      <td>0.0</td>\n",
       "    </tr>\n",
       "    <tr>\n",
       "      <th>2018-01-01 13:00:00</th>\n",
       "      <td>0.0</td>\n",
       "    </tr>\n",
       "    <tr>\n",
       "      <th>2018-01-01 14:00:00</th>\n",
       "      <td>0.0</td>\n",
       "    </tr>\n",
       "    <tr>\n",
       "      <th>2018-01-01 15:00:00</th>\n",
       "      <td>0.0</td>\n",
       "    </tr>\n",
       "    <tr>\n",
       "      <th>2018-01-01 16:00:00</th>\n",
       "      <td>0.0</td>\n",
       "    </tr>\n",
       "    <tr>\n",
       "      <th>2018-01-01 17:00:00</th>\n",
       "      <td>0.0</td>\n",
       "    </tr>\n",
       "    <tr>\n",
       "      <th>2018-01-01 18:00:00</th>\n",
       "      <td>0.0</td>\n",
       "    </tr>\n",
       "    <tr>\n",
       "      <th>2018-01-01 19:00:00</th>\n",
       "      <td>0.0</td>\n",
       "    </tr>\n",
       "    <tr>\n",
       "      <th>2018-01-01 20:00:00</th>\n",
       "      <td>0.0</td>\n",
       "    </tr>\n",
       "    <tr>\n",
       "      <th>2018-01-01 21:00:00</th>\n",
       "      <td>0.0</td>\n",
       "    </tr>\n",
       "    <tr>\n",
       "      <th>2018-01-01 22:00:00</th>\n",
       "      <td>0.0</td>\n",
       "    </tr>\n",
       "    <tr>\n",
       "      <th>2018-01-01 23:00:00</th>\n",
       "      <td>0.0</td>\n",
       "    </tr>\n",
       "    <tr>\n",
       "      <th>2018-01-02 00:00:00</th>\n",
       "      <td>0.0</td>\n",
       "    </tr>\n",
       "    <tr>\n",
       "      <th>2018-01-02 01:00:00</th>\n",
       "      <td>0.0</td>\n",
       "    </tr>\n",
       "    <tr>\n",
       "      <th>2018-01-02 02:00:00</th>\n",
       "      <td>0.0</td>\n",
       "    </tr>\n",
       "    <tr>\n",
       "      <th>2018-01-02 03:00:00</th>\n",
       "      <td>0.0</td>\n",
       "    </tr>\n",
       "    <tr>\n",
       "      <th>2018-01-02 04:00:00</th>\n",
       "      <td>0.0</td>\n",
       "    </tr>\n",
       "    <tr>\n",
       "      <th>2018-01-02 05:00:00</th>\n",
       "      <td>0.0</td>\n",
       "    </tr>\n",
       "    <tr>\n",
       "      <th>...</th>\n",
       "      <td>...</td>\n",
       "    </tr>\n",
       "    <tr>\n",
       "      <th>2018-01-30 18:00:00</th>\n",
       "      <td>0.0</td>\n",
       "    </tr>\n",
       "    <tr>\n",
       "      <th>2018-01-30 19:00:00</th>\n",
       "      <td>0.0</td>\n",
       "    </tr>\n",
       "    <tr>\n",
       "      <th>2018-01-30 20:00:00</th>\n",
       "      <td>0.0</td>\n",
       "    </tr>\n",
       "    <tr>\n",
       "      <th>2018-01-30 21:00:00</th>\n",
       "      <td>0.0</td>\n",
       "    </tr>\n",
       "    <tr>\n",
       "      <th>2018-01-30 22:00:00</th>\n",
       "      <td>0.0</td>\n",
       "    </tr>\n",
       "    <tr>\n",
       "      <th>2018-01-30 23:00:00</th>\n",
       "      <td>0.0</td>\n",
       "    </tr>\n",
       "    <tr>\n",
       "      <th>2018-01-31 00:00:00</th>\n",
       "      <td>0.0</td>\n",
       "    </tr>\n",
       "    <tr>\n",
       "      <th>2018-01-31 01:00:00</th>\n",
       "      <td>0.0</td>\n",
       "    </tr>\n",
       "    <tr>\n",
       "      <th>2018-01-31 02:00:00</th>\n",
       "      <td>0.0</td>\n",
       "    </tr>\n",
       "    <tr>\n",
       "      <th>2018-01-31 03:00:00</th>\n",
       "      <td>0.0</td>\n",
       "    </tr>\n",
       "    <tr>\n",
       "      <th>2018-01-31 04:00:00</th>\n",
       "      <td>0.0</td>\n",
       "    </tr>\n",
       "    <tr>\n",
       "      <th>2018-01-31 05:00:00</th>\n",
       "      <td>0.0</td>\n",
       "    </tr>\n",
       "    <tr>\n",
       "      <th>2018-01-31 06:00:00</th>\n",
       "      <td>0.0</td>\n",
       "    </tr>\n",
       "    <tr>\n",
       "      <th>2018-01-31 07:00:00</th>\n",
       "      <td>0.0</td>\n",
       "    </tr>\n",
       "    <tr>\n",
       "      <th>2018-01-31 08:00:00</th>\n",
       "      <td>0.0</td>\n",
       "    </tr>\n",
       "    <tr>\n",
       "      <th>2018-01-31 09:00:00</th>\n",
       "      <td>0.0</td>\n",
       "    </tr>\n",
       "    <tr>\n",
       "      <th>2018-01-31 10:00:00</th>\n",
       "      <td>0.0</td>\n",
       "    </tr>\n",
       "    <tr>\n",
       "      <th>2018-01-31 11:00:00</th>\n",
       "      <td>0.0</td>\n",
       "    </tr>\n",
       "    <tr>\n",
       "      <th>2018-01-31 12:00:00</th>\n",
       "      <td>0.0</td>\n",
       "    </tr>\n",
       "    <tr>\n",
       "      <th>2018-01-31 13:00:00</th>\n",
       "      <td>0.0</td>\n",
       "    </tr>\n",
       "    <tr>\n",
       "      <th>2018-01-31 14:00:00</th>\n",
       "      <td>0.0</td>\n",
       "    </tr>\n",
       "    <tr>\n",
       "      <th>2018-01-31 15:00:00</th>\n",
       "      <td>0.0</td>\n",
       "    </tr>\n",
       "    <tr>\n",
       "      <th>2018-01-31 16:00:00</th>\n",
       "      <td>0.0</td>\n",
       "    </tr>\n",
       "    <tr>\n",
       "      <th>2018-01-31 17:00:00</th>\n",
       "      <td>0.0</td>\n",
       "    </tr>\n",
       "    <tr>\n",
       "      <th>2018-01-31 18:00:00</th>\n",
       "      <td>0.0</td>\n",
       "    </tr>\n",
       "    <tr>\n",
       "      <th>2018-01-31 19:00:00</th>\n",
       "      <td>0.0</td>\n",
       "    </tr>\n",
       "    <tr>\n",
       "      <th>2018-01-31 20:00:00</th>\n",
       "      <td>0.0</td>\n",
       "    </tr>\n",
       "    <tr>\n",
       "      <th>2018-01-31 21:00:00</th>\n",
       "      <td>0.0</td>\n",
       "    </tr>\n",
       "    <tr>\n",
       "      <th>2018-01-31 22:00:00</th>\n",
       "      <td>0.0</td>\n",
       "    </tr>\n",
       "    <tr>\n",
       "      <th>2018-01-31 23:00:00</th>\n",
       "      <td>0.0</td>\n",
       "    </tr>\n",
       "  </tbody>\n",
       "</table>\n",
       "<p>744 rows × 1 columns</p>\n",
       "</div>"
      ],
      "text/plain": [
       "                     Intensidad [mm/h]\n",
       "Fecha/hora                            \n",
       "2018-01-01 00:00:00                0.0\n",
       "2018-01-01 01:00:00                0.0\n",
       "2018-01-01 02:00:00                0.0\n",
       "2018-01-01 03:00:00                0.0\n",
       "2018-01-01 04:00:00                0.0\n",
       "2018-01-01 05:00:00                0.0\n",
       "2018-01-01 06:00:00                0.0\n",
       "2018-01-01 07:00:00                0.0\n",
       "2018-01-01 08:00:00                0.0\n",
       "2018-01-01 09:00:00                0.0\n",
       "2018-01-01 10:00:00                0.0\n",
       "2018-01-01 11:00:00                0.0\n",
       "2018-01-01 12:00:00                0.0\n",
       "2018-01-01 13:00:00                0.0\n",
       "2018-01-01 14:00:00                0.0\n",
       "2018-01-01 15:00:00                0.0\n",
       "2018-01-01 16:00:00                0.0\n",
       "2018-01-01 17:00:00                0.0\n",
       "2018-01-01 18:00:00                0.0\n",
       "2018-01-01 19:00:00                0.0\n",
       "2018-01-01 20:00:00                0.0\n",
       "2018-01-01 21:00:00                0.0\n",
       "2018-01-01 22:00:00                0.0\n",
       "2018-01-01 23:00:00                0.0\n",
       "2018-01-02 00:00:00                0.0\n",
       "2018-01-02 01:00:00                0.0\n",
       "2018-01-02 02:00:00                0.0\n",
       "2018-01-02 03:00:00                0.0\n",
       "2018-01-02 04:00:00                0.0\n",
       "2018-01-02 05:00:00                0.0\n",
       "...                                ...\n",
       "2018-01-30 18:00:00                0.0\n",
       "2018-01-30 19:00:00                0.0\n",
       "2018-01-30 20:00:00                0.0\n",
       "2018-01-30 21:00:00                0.0\n",
       "2018-01-30 22:00:00                0.0\n",
       "2018-01-30 23:00:00                0.0\n",
       "2018-01-31 00:00:00                0.0\n",
       "2018-01-31 01:00:00                0.0\n",
       "2018-01-31 02:00:00                0.0\n",
       "2018-01-31 03:00:00                0.0\n",
       "2018-01-31 04:00:00                0.0\n",
       "2018-01-31 05:00:00                0.0\n",
       "2018-01-31 06:00:00                0.0\n",
       "2018-01-31 07:00:00                0.0\n",
       "2018-01-31 08:00:00                0.0\n",
       "2018-01-31 09:00:00                0.0\n",
       "2018-01-31 10:00:00                0.0\n",
       "2018-01-31 11:00:00                0.0\n",
       "2018-01-31 12:00:00                0.0\n",
       "2018-01-31 13:00:00                0.0\n",
       "2018-01-31 14:00:00                0.0\n",
       "2018-01-31 15:00:00                0.0\n",
       "2018-01-31 16:00:00                0.0\n",
       "2018-01-31 17:00:00                0.0\n",
       "2018-01-31 18:00:00                0.0\n",
       "2018-01-31 19:00:00                0.0\n",
       "2018-01-31 20:00:00                0.0\n",
       "2018-01-31 21:00:00                0.0\n",
       "2018-01-31 22:00:00                0.0\n",
       "2018-01-31 23:00:00                0.0\n",
       "\n",
       "[744 rows x 1 columns]"
      ]
     },
     "execution_count": 128,
     "metadata": {},
     "output_type": "execute_result"
    }
   ],
   "source": [
    "df.resample(\"H\").sum()"
   ]
  },
  {
   "cell_type": "code",
   "execution_count": 129,
   "metadata": {},
   "outputs": [
    {
     "data": {
      "text/plain": [
       "[<matplotlib.lines.Line2D at 0x126ea5a58>]"
      ]
     },
     "execution_count": 129,
     "metadata": {},
     "output_type": "execute_result"
    },
    {
     "data": {
      "image/png": "[encoded data removed]",
      "text/plain": [
       "<Figure size 432x288 with 1 Axes>"
      ]
     },
     "metadata": {
      "needs_background": "light"
     },
     "output_type": "display_data"
    }
   ],
   "source": [
    "plt.plot((df.resample(\"H\").sum()))"
   ]
  },
  {
   "cell_type": "code",
   "execution_count": 84,
   "metadata": {},
   "outputs": [
    {
     "data": {
      "text/plain": [
       "[<matplotlib.lines.Line2D at 0x126040fd0>]"
      ]
     },
     "execution_count": 84,
     "metadata": {},
     "output_type": "execute_result"
    },
    {
     "data": {
      "image/png": "[encoded data removed]",
      "text/plain": [
       "<Figure size 432x288 with 1 Axes>"
      ]
     },
     "metadata": {
      "needs_background": "light"
     },
     "output_type": "display_data"
    }
   ],
   "source": [
    "#plt.plot(df.resample(\"W\").max()[\"Intensidad [mm/h]\"])\n",
    "\n",
    "plt.plot(df.resample(\"D\").mean()[\"Intensidad [mm/h]\"])"
   ]
  },
  {
   "cell_type": "code",
   "execution_count": 86,
   "metadata": {},
   "outputs": [
    {
     "data": {
      "text/plain": [
       "Fecha/hora\n",
       "2018-01-01    0.000000\n",
       "2018-01-02    0.000000\n",
       "2018-01-03    0.000333\n",
       "2018-01-04    0.000126\n",
       "2018-01-05    0.000000\n",
       "2018-01-06    0.000000\n",
       "2018-01-07    0.000100\n",
       "2018-01-08    0.000076\n",
       "2018-01-09    0.000029\n",
       "2018-01-10    0.000000\n",
       "2018-01-11    0.000187\n",
       "2018-01-12    0.000156\n",
       "2018-01-13    0.000000\n",
       "2018-01-14    0.000377\n",
       "2018-01-15    0.000278\n",
       "2018-01-16    0.000096\n",
       "2018-01-17    0.000086\n",
       "2018-01-18    0.000560\n",
       "2018-01-19    0.000049\n",
       "2018-01-20    0.000000\n",
       "2018-01-21    0.000000\n",
       "2018-01-22    0.000280\n",
       "2018-01-23    0.000064\n",
       "2018-01-24    0.443814\n",
       "2018-01-25    0.000000\n",
       "2018-01-26    0.015523\n",
       "2018-01-27    0.006439\n",
       "2018-01-28    0.003894\n",
       "2018-01-29    0.000000\n",
       "2018-01-30    0.000194\n",
       "2018-01-31    0.000000\n",
       "Freq: D, Name: Intensidad [mm/h], dtype: float64"
      ]
     },
     "execution_count": 86,
     "metadata": {},
     "output_type": "execute_result"
    }
   ],
   "source": [
    "df.resample(\"D\").mean()[\"Intensidad [mm/h]\"]"
   ]
  },
  {
   "cell_type": "code",
   "execution_count": 89,
   "metadata": {},
   "outputs": [
    {
     "data": {
      "text/plain": [
       "Fecha/hora\n",
       "2018-01-01      0.000\n",
       "2018-01-02      0.000\n",
       "2018-01-03      0.478\n",
       "2018-01-04      0.180\n",
       "2018-01-05      0.000\n",
       "2018-01-06      0.000\n",
       "2018-01-07      0.144\n",
       "2018-01-08      0.109\n",
       "2018-01-09      0.041\n",
       "2018-01-10      0.000\n",
       "2018-01-11      0.267\n",
       "2018-01-12      0.224\n",
       "2018-01-13      0.000\n",
       "2018-01-14      0.542\n",
       "2018-01-15      0.395\n",
       "2018-01-16      0.136\n",
       "2018-01-17      0.122\n",
       "2018-01-18      0.803\n",
       "2018-01-19      0.070\n",
       "2018-01-20      0.000\n",
       "2018-01-21      0.000\n",
       "2018-01-22      0.402\n",
       "2018-01-23      0.092\n",
       "2018-01-24    632.435\n",
       "2018-01-25      0.000\n",
       "2018-01-26     22.151\n",
       "2018-01-27      9.227\n",
       "2018-01-28      5.607\n",
       "2018-01-29      0.000\n",
       "2018-01-30      0.159\n",
       "2018-01-31      0.000\n",
       "Freq: D, Name: Intensidad [mm/h], dtype: float64"
      ]
     },
     "execution_count": 89,
     "metadata": {},
     "output_type": "execute_result"
    }
   ],
   "source": [
    "df.resample(\"D\").sum()[\"Intensidad [mm/h]\"]"
   ]
  },
  {
   "cell_type": "code",
   "execution_count": null,
   "metadata": {},
   "outputs": [],
   "source": []
  },
  {
   "cell_type": "markdown",
   "metadata": {},
   "source": [
    "Referencias \n",
    "\n",
    "https://pandas.pydata.org/pandas-docs/version/0.23.4/generated/pandas.DataFrame.resample.html\n"
   ]
  },
  {
   "cell_type": "code",
   "execution_count": null,
   "metadata": {},
   "outputs": [],
   "source": []
  }
 ],
 "metadata": {
  "kernelspec": {
   "display_name": "Python 3",
   "language": "python",
   "name": "python3"
  },
  "language_info": {
   "codemirror_mode": {
    "name": "ipython",
    "version": 3
   },
   "file_extension": ".py",
   "mimetype": "text/x-python",
   "name": "python",
   "nbconvert_exporter": "python",
   "pygments_lexer": "ipython3",
   "version": "3.7.3"
  }
 },
 "nbformat": 4,
 "nbformat_minor": 2
}
