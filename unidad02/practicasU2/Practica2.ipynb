{
 "cells": [
  {
   "cell_type": "markdown",
   "metadata": {},
   "source": [
    "# Actividad 2 "
   ]
  },
  {
   "cell_type": "markdown",
   "metadata": {},
   "source": [
    "#### Actividad 2. Banderas de MQTT, y otras funciones.\n",
    "Probar el funcionamiento de la bandera Clean session. Escribir un programa que haga lo siguiente\n",
    "```\n",
    "sudo /usr/sbin/mosquitto -c /etc/mosquitto/mosquitto.conf\n",
    "```\n",
    "\n",
    "0. Import paho.mqtt.client as mqtt\n",
    "1. Crear un cliente con bandera ```clean_Session = True```\n",
    "2. Asociar un ```on_message``` callback al cliente que muestre los mensajes recibidos.\n",
    "3. Conectar el cliente al broker\n",
    "4. Suscribir a un tópico \"A\"\n",
    "5. Publicar un mensaje \"X\" en un topico \"A\"\n",
    "6. Ejecutar loop\n",
    "7. Detener Loop\n",
    "8. Desconectar\n",
    "\n",
    "Como poder enviar y recibir el mensaje sin que el cliente anterior se suscribiese de manera explícita. \n",
    "\n",
    "#### Actividad 3. Manejando unsuscribe()\n",
    "\n",
    "1. apoyarse del programa escrito en el Ejercicio 2.\n",
    "2. Ejecutar en un bloque de código los pasos 0-6\n",
    "3. En otro bloque de código De-suscribir al tópico \"A\"\n",
    "4. Publicar en el tópico \"A\""
   ]
  },
  {
   "cell_type": "code",
   "execution_count": 74,
   "metadata": {},
   "outputs": [],
   "source": [
    "import paho.mqtt.client as mqtt"
   ]
  },
  {
   "cell_type": "code",
   "execution_count": 145,
   "metadata": {},
   "outputs": [],
   "source": [
    "host = \"192.168.1.93\"\n",
    "host = \"192.168.1.88\"\n",
    "ncliente = \"rod3\"\n",
    "topico = \"msj\""
   ]
  },
  {
   "cell_type": "code",
   "execution_count": 146,
   "metadata": {},
   "outputs": [
    {
     "data": {
      "text/plain": [
       "0"
      ]
     },
     "execution_count": 146,
     "metadata": {},
     "output_type": "execute_result"
    }
   ],
   "source": [
    "def on_message(client, userdata, message):\n",
    "    print(\"Mensaje Recibido \" ,str(message.payload.decode(\"utf-8\")))\n",
    "    print(\"Mensaje Topico=\",message.topic)\n",
    "    print(\"Mensaje qos=\",message.qos)\n",
    "    print(\"Mensaje retain flag = \",message.retain)\n",
    "\n",
    "#1. Crear un cliente con badnera clea_session = True\n",
    "cliente = mqtt.Client(ncliente,clean_session = True)\n",
    "\n",
    "#2. Asociar implementación ```on_message``` callback al cliente.\n",
    "cliente.on_message = on_message\n",
    "\n",
    "#3. Conectar el cliente al broker\n",
    "cliente.connect(host)"
   ]
  },
  {
   "cell_type": "code",
   "execution_count": 147,
   "metadata": {},
   "outputs": [
    {
     "name": "stdout",
     "output_type": "stream",
     "text": [
      "Para recibir mensaje, primero hay que suscribirse\n"
     ]
    },
    {
     "data": {
      "text/plain": [
       "(0, 1)"
      ]
     },
     "execution_count": 147,
     "metadata": {},
     "output_type": "execute_result"
    }
   ],
   "source": [
    "print(\"Para recibir mensaje, primero hay que suscribirse\")\n",
    "cliente.subscribe(topico,qos= 0)"
   ]
  },
  {
   "cell_type": "code",
   "execution_count": 148,
   "metadata": {},
   "outputs": [
    {
     "data": {
      "text/plain": [
       "<paho.mqtt.client.MQTTMessageInfo at 0x7f1ebc64e3b0>"
      ]
     },
     "execution_count": 148,
     "metadata": {},
     "output_type": "execute_result"
    }
   ],
   "source": [
    "cliente.publish(topico,payload = \"prueba3\",retain = False, qos = 0)"
   ]
  },
  {
   "cell_type": "code",
   "execution_count": 149,
   "metadata": {},
   "outputs": [
    {
     "name": "stdout",
     "output_type": "stream",
     "text": [
      "Mensaje Recibido  prueba3\n",
      "Mensaje Topico= msj\n",
      "Mensaje qos= 0\n",
      "Mensaje retain flag =  0\n"
     ]
    }
   ],
   "source": [
    "#iniciar loop\n",
    "cliente.loop_start()"
   ]
  },
  {
   "cell_type": "code",
   "execution_count": 150,
   "metadata": {},
   "outputs": [
    {
     "data": {
      "text/plain": [
       "0"
      ]
     },
     "execution_count": 150,
     "metadata": {},
     "output_type": "execute_result"
    }
   ],
   "source": [
    "cliente.loop_stop()\n",
    "cliente.disconnect()"
   ]
  },
  {
   "cell_type": "markdown",
   "metadata": {},
   "source": [
    "# Ejercicio con clean_session"
   ]
  },
  {
   "cell_type": "code",
   "execution_count": 151,
   "metadata": {},
   "outputs": [],
   "source": [
    "#help(cliente)"
   ]
  },
  {
   "cell_type": "code",
   "execution_count": 152,
   "metadata": {},
   "outputs": [],
   "source": [
    "cliente = mqtt.Client(ncliente,clean_session = False)"
   ]
  },
  {
   "cell_type": "code",
   "execution_count": 153,
   "metadata": {},
   "outputs": [
    {
     "data": {
      "text/plain": [
       "0"
      ]
     },
     "execution_count": 153,
     "metadata": {},
     "output_type": "execute_result"
    }
   ],
   "source": [
    "#2. Asociar implementación ```on_message``` callback al cliente.\n",
    "cliente.on_message = on_message\n",
    "\n",
    "#3. Conectar el cliente al broker\n",
    "cliente.connect(host)"
   ]
  },
  {
   "cell_type": "code",
   "execution_count": 154,
   "metadata": {},
   "outputs": [],
   "source": [
    "#iniciar loop\n",
    "cliente.loop_start()"
   ]
  },
  {
   "cell_type": "code",
   "execution_count": 155,
   "metadata": {},
   "outputs": [
    {
     "data": {
      "text/plain": [
       "(0, 1)"
      ]
     },
     "execution_count": 155,
     "metadata": {},
     "output_type": "execute_result"
    }
   ],
   "source": [
    "cliente.subscribe(topico)"
   ]
  },
  {
   "cell_type": "code",
   "execution_count": 157,
   "metadata": {},
   "outputs": [
    {
     "name": "stdout",
     "output_type": "stream",
     "text": [
      "Mensaje Recibido  prueba4\n",
      "Mensaje Topico= msj\n",
      "Mensaje qos= 0\n",
      "Mensaje retain flag =  0\n"
     ]
    },
    {
     "data": {
      "text/plain": [
       "<paho.mqtt.client.MQTTMessageInfo at 0x7f1ebc609890>"
      ]
     },
     "execution_count": 157,
     "metadata": {},
     "output_type": "execute_result"
    }
   ],
   "source": [
    "cliente.publish(topico,payload = \"prueba4\",retain = False,qos = 0)"
   ]
  },
  {
   "cell_type": "code",
   "execution_count": null,
   "metadata": {},
   "outputs": [],
   "source": []
  },
  {
   "cell_type": "code",
   "execution_count": null,
   "metadata": {},
   "outputs": [],
   "source": []
  },
  {
   "cell_type": "code",
   "execution_count": 158,
   "metadata": {},
   "outputs": [
    {
     "data": {
      "text/plain": [
       "0"
      ]
     },
     "execution_count": 158,
     "metadata": {},
     "output_type": "execute_result"
    }
   ],
   "source": [
    "cliente.loop_stop()\n",
    "cliente.disconnect()"
   ]
  },
  {
   "cell_type": "code",
   "execution_count": 159,
   "metadata": {},
   "outputs": [
    {
     "data": {
      "text/plain": [
       "0"
      ]
     },
     "execution_count": 159,
     "metadata": {},
     "output_type": "execute_result"
    }
   ],
   "source": [
    "cliente = mqtt.Client(ncliente,clean_session = False)\n",
    "\n",
    "#2. Asociar implementación ```on_message``` callback al cliente.\n",
    "cliente.on_message = on_message\n",
    "\n",
    "#3. Conectar el cliente al broker\n",
    "cliente.connect(host)\n",
    "\n"
   ]
  },
  {
   "cell_type": "code",
   "execution_count": 160,
   "metadata": {},
   "outputs": [],
   "source": [
    "#iniciar loop\n",
    "cliente.loop_start()"
   ]
  },
  {
   "cell_type": "code",
   "execution_count": 161,
   "metadata": {},
   "outputs": [
    {
     "data": {
      "text/plain": [
       "<paho.mqtt.client.MQTTMessageInfo at 0x7f1ebc591350>"
      ]
     },
     "execution_count": 161,
     "metadata": {},
     "output_type": "execute_result"
    },
    {
     "name": "stdout",
     "output_type": "stream",
     "text": [
      "Mensaje Recibido  prueba2\n",
      "Mensaje Topico= msj\n",
      "Mensaje qos= 0\n",
      "Mensaje retain flag =  0\n"
     ]
    }
   ],
   "source": [
    "cliente.publish(topico,payload = \"prueba2\",retain = False,qos = 0)"
   ]
  },
  {
   "cell_type": "code",
   "execution_count": 162,
   "metadata": {},
   "outputs": [
    {
     "data": {
      "text/plain": [
       "0"
      ]
     },
     "execution_count": 162,
     "metadata": {},
     "output_type": "execute_result"
    }
   ],
   "source": [
    "cliente.loop_stop()\n",
    "cliente.disconnect()"
   ]
  },
  {
   "cell_type": "code",
   "execution_count": null,
   "metadata": {},
   "outputs": [],
   "source": []
  }
 ],
 "metadata": {
  "kernelspec": {
   "display_name": "Python 3",
   "language": "python",
   "name": "python3"
  },
  "language_info": {
   "codemirror_mode": {
    "name": "ipython",
    "version": 3
   },
   "file_extension": ".py",
   "mimetype": "text/x-python",
   "name": "python",
   "nbconvert_exporter": "python",
   "pygments_lexer": "ipython3",
   "version": "3.7.6"
  }
 },
 "nbformat": 4,
 "nbformat_minor": 4
}
