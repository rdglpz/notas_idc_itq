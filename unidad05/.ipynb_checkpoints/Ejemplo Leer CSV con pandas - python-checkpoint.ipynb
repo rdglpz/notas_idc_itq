{
 "cells": [
  {
   "cell_type": "markdown",
   "metadata": {},
   "source": [
    "# Ejemplo: Leer .csv con Pandas"
   ]
  },
  {
   "cell_type": "code",
   "execution_count": 100,
   "metadata": {},
   "outputs": [],
   "source": [
    "import pandas as pd\n",
    "import matplotlib.pyplot as plt"
   ]
  },
  {
   "cell_type": "markdown",
   "metadata": {},
   "source": [
    "Leer archivo csv"
   ]
  },
  {
   "cell_type": "code",
   "execution_count": 101,
   "metadata": {},
   "outputs": [],
   "source": [
    "df = pd.read_csv(\"ejemploleercsv/Datos_PREPA4_Inten_201801.csv\")"
   ]
  },
  {
   "cell_type": "markdown",
   "metadata": {},
   "source": [
    "Mostrar los últimos elementos de la tabla"
   ]
  },
  {
   "cell_type": "code",
   "execution_count": 104,
   "metadata": {},
   "outputs": [
    {
     "data": {
      "text/html": [
       "<div>\n",
       "<style scoped>\n",
       "    .dataframe tbody tr th:only-of-type {\n",
       "        vertical-align: middle;\n",
       "    }\n",
       "\n",
       "    .dataframe tbody tr th {\n",
       "        vertical-align: top;\n",
       "    }\n",
       "\n",
       "    .dataframe thead th {\n",
       "        text-align: right;\n",
       "    }\n",
       "</style>\n",
       "<table border=\"1\" class=\"dataframe\">\n",
       "  <thead>\n",
       "    <tr style=\"text-align: right;\">\n",
       "      <th></th>\n",
       "      <th>Estación</th>\n",
       "      <th>Fecha/hora</th>\n",
       "      <th>Intensidad [mm/h]</th>\n",
       "    </tr>\n",
       "  </thead>\n",
       "  <tbody>\n",
       "    <tr>\n",
       "      <th>43725</th>\n",
       "      <td>PREPA4</td>\n",
       "      <td>2018/01/31 23:54</td>\n",
       "      <td>0.0</td>\n",
       "    </tr>\n",
       "    <tr>\n",
       "      <th>43726</th>\n",
       "      <td>PREPA4</td>\n",
       "      <td>2018/01/31 23:55</td>\n",
       "      <td>0.0</td>\n",
       "    </tr>\n",
       "    <tr>\n",
       "      <th>43727</th>\n",
       "      <td>PREPA4</td>\n",
       "      <td>2018/01/31 23:56</td>\n",
       "      <td>0.0</td>\n",
       "    </tr>\n",
       "    <tr>\n",
       "      <th>43728</th>\n",
       "      <td>PREPA4</td>\n",
       "      <td>2018/01/31 23:57</td>\n",
       "      <td>0.0</td>\n",
       "    </tr>\n",
       "    <tr>\n",
       "      <th>43729</th>\n",
       "      <td>PREPA4</td>\n",
       "      <td>2018/01/31 23:58</td>\n",
       "      <td>0.0</td>\n",
       "    </tr>\n",
       "  </tbody>\n",
       "</table>\n",
       "</div>"
      ],
      "text/plain": [
       "      Estación        Fecha/hora  Intensidad [mm/h]\n",
       "43725   PREPA4  2018/01/31 23:54                0.0\n",
       "43726   PREPA4  2018/01/31 23:55                0.0\n",
       "43727   PREPA4  2018/01/31 23:56                0.0\n",
       "43728   PREPA4  2018/01/31 23:57                0.0\n",
       "43729   PREPA4  2018/01/31 23:58                0.0"
      ]
     },
     "execution_count": 104,
     "metadata": {},
     "output_type": "execute_result"
    }
   ],
   "source": [
    "df.tail()"
   ]
  },
  {
   "cell_type": "markdown",
   "metadata": {},
   "source": [
    "Mostrar columnas"
   ]
  },
  {
   "cell_type": "code",
   "execution_count": 105,
   "metadata": {},
   "outputs": [
    {
     "data": {
      "text/plain": [
       "Index(['Estación', 'Fecha/hora', 'Intensidad [mm/h]'], dtype='object')"
      ]
     },
     "execution_count": 105,
     "metadata": {},
     "output_type": "execute_result"
    }
   ],
   "source": [
    "df.columns"
   ]
  },
  {
   "cell_type": "markdown",
   "metadata": {},
   "source": [
    "Definir indice columna"
   ]
  },
  {
   "cell_type": "code",
   "execution_count": 106,
   "metadata": {},
   "outputs": [],
   "source": [
    "df = df.set_index(\"Fecha/hora\")"
   ]
  },
  {
   "cell_type": "code",
   "execution_count": 107,
   "metadata": {},
   "outputs": [
    {
     "data": {
      "text/plain": [
       "Index(['2018/01/01 00:02', '2018/01/01 00:03', '2018/01/01 00:04',\n",
       "       '2018/01/01 00:05', '2018/01/01 00:06', '2018/01/01 00:07',\n",
       "       '2018/01/01 00:08', '2018/01/01 00:09', '2018/01/01 00:10',\n",
       "       '2018/01/01 00:11',\n",
       "       ...\n",
       "       '2018/01/31 23:49', '2018/01/31 23:50', '2018/01/31 23:51',\n",
       "       '2018/01/31 23:52', '2018/01/31 23:53', '2018/01/31 23:54',\n",
       "       '2018/01/31 23:55', '2018/01/31 23:56', '2018/01/31 23:57',\n",
       "       '2018/01/31 23:58'],\n",
       "      dtype='object', name='Fecha/hora', length=43730)"
      ]
     },
     "execution_count": 107,
     "metadata": {},
     "output_type": "execute_result"
    }
   ],
   "source": [
    "df.index"
   ]
  },
  {
   "cell_type": "markdown",
   "metadata": {},
   "source": [
    "Convertir datos de columna a tipo *Date*\n",
    "\n"
   ]
  },
  {
   "cell_type": "code",
   "execution_count": 112,
   "metadata": {},
   "outputs": [],
   "source": [
    "df.index = pd.to_datetime(df.index)"
   ]
  },
  {
   "cell_type": "markdown",
   "metadata": {},
   "source": [
    "Remuestrear por semana y mostrar su promedio semanal. (D es para día).\n",
    "\n"
   ]
  },
  {
   "cell_type": "code",
   "execution_count": 115,
   "metadata": {},
   "outputs": [
    {
     "data": {
      "text/html": [
       "<div>\n",
       "<style scoped>\n",
       "    .dataframe tbody tr th:only-of-type {\n",
       "        vertical-align: middle;\n",
       "    }\n",
       "\n",
       "    .dataframe tbody tr th {\n",
       "        vertical-align: top;\n",
       "    }\n",
       "\n",
       "    .dataframe thead th {\n",
       "        text-align: right;\n",
       "    }\n",
       "</style>\n",
       "<table border=\"1\" class=\"dataframe\">\n",
       "  <thead>\n",
       "    <tr style=\"text-align: right;\">\n",
       "      <th></th>\n",
       "      <th>Intensidad [mm/h]</th>\n",
       "    </tr>\n",
       "    <tr>\n",
       "      <th>Fecha/hora</th>\n",
       "      <th></th>\n",
       "    </tr>\n",
       "  </thead>\n",
       "  <tbody>\n",
       "    <tr>\n",
       "      <th>2018-01-01</th>\n",
       "      <td>0.000000</td>\n",
       "    </tr>\n",
       "    <tr>\n",
       "      <th>2018-01-02</th>\n",
       "      <td>0.000000</td>\n",
       "    </tr>\n",
       "    <tr>\n",
       "      <th>2018-01-03</th>\n",
       "      <td>0.000333</td>\n",
       "    </tr>\n",
       "    <tr>\n",
       "      <th>2018-01-04</th>\n",
       "      <td>0.000126</td>\n",
       "    </tr>\n",
       "    <tr>\n",
       "      <th>2018-01-05</th>\n",
       "      <td>0.000000</td>\n",
       "    </tr>\n",
       "    <tr>\n",
       "      <th>2018-01-06</th>\n",
       "      <td>0.000000</td>\n",
       "    </tr>\n",
       "    <tr>\n",
       "      <th>2018-01-07</th>\n",
       "      <td>0.000100</td>\n",
       "    </tr>\n",
       "    <tr>\n",
       "      <th>2018-01-08</th>\n",
       "      <td>0.000076</td>\n",
       "    </tr>\n",
       "    <tr>\n",
       "      <th>2018-01-09</th>\n",
       "      <td>0.000029</td>\n",
       "    </tr>\n",
       "    <tr>\n",
       "      <th>2018-01-10</th>\n",
       "      <td>0.000000</td>\n",
       "    </tr>\n",
       "    <tr>\n",
       "      <th>2018-01-11</th>\n",
       "      <td>0.000187</td>\n",
       "    </tr>\n",
       "    <tr>\n",
       "      <th>2018-01-12</th>\n",
       "      <td>0.000156</td>\n",
       "    </tr>\n",
       "    <tr>\n",
       "      <th>2018-01-13</th>\n",
       "      <td>0.000000</td>\n",
       "    </tr>\n",
       "    <tr>\n",
       "      <th>2018-01-14</th>\n",
       "      <td>0.000377</td>\n",
       "    </tr>\n",
       "    <tr>\n",
       "      <th>2018-01-15</th>\n",
       "      <td>0.000278</td>\n",
       "    </tr>\n",
       "    <tr>\n",
       "      <th>2018-01-16</th>\n",
       "      <td>0.000096</td>\n",
       "    </tr>\n",
       "    <tr>\n",
       "      <th>2018-01-17</th>\n",
       "      <td>0.000086</td>\n",
       "    </tr>\n",
       "    <tr>\n",
       "      <th>2018-01-18</th>\n",
       "      <td>0.000560</td>\n",
       "    </tr>\n",
       "    <tr>\n",
       "      <th>2018-01-19</th>\n",
       "      <td>0.000049</td>\n",
       "    </tr>\n",
       "    <tr>\n",
       "      <th>2018-01-20</th>\n",
       "      <td>0.000000</td>\n",
       "    </tr>\n",
       "    <tr>\n",
       "      <th>2018-01-21</th>\n",
       "      <td>0.000000</td>\n",
       "    </tr>\n",
       "    <tr>\n",
       "      <th>2018-01-22</th>\n",
       "      <td>0.000280</td>\n",
       "    </tr>\n",
       "    <tr>\n",
       "      <th>2018-01-23</th>\n",
       "      <td>0.000064</td>\n",
       "    </tr>\n",
       "    <tr>\n",
       "      <th>2018-01-24</th>\n",
       "      <td>0.443814</td>\n",
       "    </tr>\n",
       "    <tr>\n",
       "      <th>2018-01-25</th>\n",
       "      <td>0.000000</td>\n",
       "    </tr>\n",
       "    <tr>\n",
       "      <th>2018-01-26</th>\n",
       "      <td>0.015523</td>\n",
       "    </tr>\n",
       "    <tr>\n",
       "      <th>2018-01-27</th>\n",
       "      <td>0.006439</td>\n",
       "    </tr>\n",
       "    <tr>\n",
       "      <th>2018-01-28</th>\n",
       "      <td>0.003894</td>\n",
       "    </tr>\n",
       "    <tr>\n",
       "      <th>2018-01-29</th>\n",
       "      <td>0.000000</td>\n",
       "    </tr>\n",
       "    <tr>\n",
       "      <th>2018-01-30</th>\n",
       "      <td>0.000194</td>\n",
       "    </tr>\n",
       "    <tr>\n",
       "      <th>2018-01-31</th>\n",
       "      <td>0.000000</td>\n",
       "    </tr>\n",
       "  </tbody>\n",
       "</table>\n",
       "</div>"
      ],
      "text/plain": [
       "            Intensidad [mm/h]\n",
       "Fecha/hora                   \n",
       "2018-01-01           0.000000\n",
       "2018-01-02           0.000000\n",
       "2018-01-03           0.000333\n",
       "2018-01-04           0.000126\n",
       "2018-01-05           0.000000\n",
       "2018-01-06           0.000000\n",
       "2018-01-07           0.000100\n",
       "2018-01-08           0.000076\n",
       "2018-01-09           0.000029\n",
       "2018-01-10           0.000000\n",
       "2018-01-11           0.000187\n",
       "2018-01-12           0.000156\n",
       "2018-01-13           0.000000\n",
       "2018-01-14           0.000377\n",
       "2018-01-15           0.000278\n",
       "2018-01-16           0.000096\n",
       "2018-01-17           0.000086\n",
       "2018-01-18           0.000560\n",
       "2018-01-19           0.000049\n",
       "2018-01-20           0.000000\n",
       "2018-01-21           0.000000\n",
       "2018-01-22           0.000280\n",
       "2018-01-23           0.000064\n",
       "2018-01-24           0.443814\n",
       "2018-01-25           0.000000\n",
       "2018-01-26           0.015523\n",
       "2018-01-27           0.006439\n",
       "2018-01-28           0.003894\n",
       "2018-01-29           0.000000\n",
       "2018-01-30           0.000194\n",
       "2018-01-31           0.000000"
      ]
     },
     "execution_count": 115,
     "metadata": {},
     "output_type": "execute_result"
    }
   ],
   "source": [
    "df.resample(\"W\").mean()"
   ]
  },
  {
   "cell_type": "code",
   "execution_count": 80,
   "metadata": {},
   "outputs": [
    {
     "data": {
      "text/plain": [
       "[<matplotlib.lines.Line2D at 0x122ed1be0>]"
      ]
     },
     "execution_count": 80,
     "metadata": {},
     "output_type": "execute_result"
    },
    {
     "data": {
      "image/png": "[encoded data removed]",
      "text/plain": [
       "<Figure size 432x288 with 1 Axes>"
      ]
     },
     "metadata": {
      "needs_background": "light"
     },
     "output_type": "display_data"
    }
   ],
   "source": [
    "plt.plot((df.resample(\"W\").mean()))"
   ]
  },
  {
   "cell_type": "code",
   "execution_count": 84,
   "metadata": {},
   "outputs": [
    {
     "data": {
      "text/plain": [
       "[<matplotlib.lines.Line2D at 0x126040fd0>]"
      ]
     },
     "execution_count": 84,
     "metadata": {},
     "output_type": "execute_result"
    },
    {
     "data": {
      "image/png": "[encoded data removed]",
      "text/plain": [
       "<Figure size 432x288 with 1 Axes>"
      ]
     },
     "metadata": {
      "needs_background": "light"
     },
     "output_type": "display_data"
    }
   ],
   "source": [
    "#plt.plot(df.resample(\"W\").max()[\"Intensidad [mm/h]\"])\n",
    "\n",
    "plt.plot(df.resample(\"D\").mean()[\"Intensidad [mm/h]\"])"
   ]
  },
  {
   "cell_type": "code",
   "execution_count": 86,
   "metadata": {},
   "outputs": [
    {
     "data": {
      "text/plain": [
       "Fecha/hora\n",
       "2018-01-01    0.000000\n",
       "2018-01-02    0.000000\n",
       "2018-01-03    0.000333\n",
       "2018-01-04    0.000126\n",
       "2018-01-05    0.000000\n",
       "2018-01-06    0.000000\n",
       "2018-01-07    0.000100\n",
       "2018-01-08    0.000076\n",
       "2018-01-09    0.000029\n",
       "2018-01-10    0.000000\n",
       "2018-01-11    0.000187\n",
       "2018-01-12    0.000156\n",
       "2018-01-13    0.000000\n",
       "2018-01-14    0.000377\n",
       "2018-01-15    0.000278\n",
       "2018-01-16    0.000096\n",
       "2018-01-17    0.000086\n",
       "2018-01-18    0.000560\n",
       "2018-01-19    0.000049\n",
       "2018-01-20    0.000000\n",
       "2018-01-21    0.000000\n",
       "2018-01-22    0.000280\n",
       "2018-01-23    0.000064\n",
       "2018-01-24    0.443814\n",
       "2018-01-25    0.000000\n",
       "2018-01-26    0.015523\n",
       "2018-01-27    0.006439\n",
       "2018-01-28    0.003894\n",
       "2018-01-29    0.000000\n",
       "2018-01-30    0.000194\n",
       "2018-01-31    0.000000\n",
       "Freq: D, Name: Intensidad [mm/h], dtype: float64"
      ]
     },
     "execution_count": 86,
     "metadata": {},
     "output_type": "execute_result"
    }
   ],
   "source": [
    "df.resample(\"D\").mean()[\"Intensidad [mm/h]\"]"
   ]
  },
  {
   "cell_type": "code",
   "execution_count": 89,
   "metadata": {},
   "outputs": [
    {
     "data": {
      "text/plain": [
       "Fecha/hora\n",
       "2018-01-01      0.000\n",
       "2018-01-02      0.000\n",
       "2018-01-03      0.478\n",
       "2018-01-04      0.180\n",
       "2018-01-05      0.000\n",
       "2018-01-06      0.000\n",
       "2018-01-07      0.144\n",
       "2018-01-08      0.109\n",
       "2018-01-09      0.041\n",
       "2018-01-10      0.000\n",
       "2018-01-11      0.267\n",
       "2018-01-12      0.224\n",
       "2018-01-13      0.000\n",
       "2018-01-14      0.542\n",
       "2018-01-15      0.395\n",
       "2018-01-16      0.136\n",
       "2018-01-17      0.122\n",
       "2018-01-18      0.803\n",
       "2018-01-19      0.070\n",
       "2018-01-20      0.000\n",
       "2018-01-21      0.000\n",
       "2018-01-22      0.402\n",
       "2018-01-23      0.092\n",
       "2018-01-24    632.435\n",
       "2018-01-25      0.000\n",
       "2018-01-26     22.151\n",
       "2018-01-27      9.227\n",
       "2018-01-28      5.607\n",
       "2018-01-29      0.000\n",
       "2018-01-30      0.159\n",
       "2018-01-31      0.000\n",
       "Freq: D, Name: Intensidad [mm/h], dtype: float64"
      ]
     },
     "execution_count": 89,
     "metadata": {},
     "output_type": "execute_result"
    }
   ],
   "source": [
    "df.resample(\"D\").sum()[\"Intensidad [mm/h]\"]"
   ]
  },
  {
   "cell_type": "code",
   "execution_count": null,
   "metadata": {},
   "outputs": [],
   "source": []
  },
  {
   "cell_type": "code",
   "execution_count": 82,
   "metadata": {},
   "outputs": [
    {
     "ename": "SyntaxError",
     "evalue": "invalid syntax (<ipython-input-82-51bd08a2dfa2>, line 3)",
     "output_type": "error",
     "traceback": [
      "\u001b[0;36m  File \u001b[0;32m\"<ipython-input-82-51bd08a2dfa2>\"\u001b[0;36m, line \u001b[0;32m3\u001b[0m\n\u001b[0;31m    https://pandas.pydata.org/pandas-docs/version/0.23.4/generated/pandas.DataFrame.resample.html\u001b[0m\n\u001b[0m           ^\u001b[0m\n\u001b[0;31mSyntaxError\u001b[0m\u001b[0;31m:\u001b[0m invalid syntax\n"
     ]
    }
   ],
   "source": [
    "Referencias \n",
    "\n",
    "https://pandas.pydata.org/pandas-docs/version/0.23.4/generated/pandas.DataFrame.resample.html\n"
   ]
  },
  {
   "cell_type": "code",
   "execution_count": null,
   "metadata": {},
   "outputs": [],
   "source": []
  }
 ],
 "metadata": {
  "kernelspec": {
   "display_name": "Python 3",
   "language": "python",
   "name": "python3"
  },
  "language_info": {
   "codemirror_mode": {
    "name": "ipython",
    "version": 3
   },
   "file_extension": ".py",
   "mimetype": "text/x-python",
   "name": "python",
   "nbconvert_exporter": "python",
   "pygments_lexer": "ipython3",
   "version": "3.7.3"
  }
 },
 "nbformat": 4,
 "nbformat_minor": 2
}
